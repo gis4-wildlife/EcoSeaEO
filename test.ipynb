{
 "cells": [
  {
   "cell_type": "code",
   "execution_count": null,
   "id": "d437a5f4",
   "metadata": {},
   "outputs": [],
   "source": [
    "# Python>=3.13\n",
    "\n",
    "# --- for data analysis\n",
    "import numpy as np                      # version: 2.3.3 \n",
    "import json\n",
    "import xarray as xr                    # version: 2025.9.0\n",
    "import gsw                             # version: 3.6.20  Gibbs SeaWater Oceanographic Toolbox\n",
    "import os, glob\n",
    "import pandas as pd                     # version: 2.3.2\n",
    "import geopandas as gpd                 # version: 1.1.1\n",
    "from shapely.geometry import box        # version: 2.1.2  \n",
    "\n",
    "# --- for data visualization\n",
    "import matplotlib.pyplot as plt          # version: 3.10.6 \n",
    "import matplotlib.colors as mcolors\n",
    "import cmocean                           # version: 4.0.3 "
   ]
  },
  {
   "cell_type": "code",
   "execution_count": null,
   "id": "cc89b2c0",
   "metadata": {},
   "outputs": [],
   "source": [
    "from keplergl import KeplerGl      # version: 0.3.2"
   ]
  }
 ],
 "metadata": {
  "language_info": {
   "name": "python"
  }
 },
 "nbformat": 4,
 "nbformat_minor": 5
}
